{
 "cells": [
  {
   "cell_type": "markdown",
   "id": "93b9e310",
   "metadata": {},
   "source": [
    "# int"
   ]
  },
  {
   "cell_type": "code",
   "execution_count": 22,
   "id": "7967044a",
   "metadata": {},
   "outputs": [],
   "source": [
    "import time"
   ]
  },
  {
   "cell_type": "code",
   "execution_count": 21,
   "id": "355d8a3d",
   "metadata": {},
   "outputs": [],
   "source": [
    "a=100\n",
    "b=10.2\n",
    "c=\"chandan\"\n",
    "cc=\"c\"\n",
    "ccc='v'"
   ]
  },
  {
   "cell_type": "code",
   "execution_count": 4,
   "id": "5e4869bd",
   "metadata": {},
   "outputs": [],
   "source": [
    "#print(\"a {} ,b {} ,c {}, cc {}, ccc {} \".format(a,b,c,cc,ccc))"
   ]
  },
  {
   "cell_type": "markdown",
   "id": "881880fe",
   "metadata": {},
   "source": [
    "### format of data type"
   ]
  },
  {
   "cell_type": "code",
   "execution_count": 5,
   "id": "a0be5c26",
   "metadata": {},
   "outputs": [],
   "source": [
    "#print(\"a {} ,b {} ,c {}, cc {}, ccc {} \".format(type(a),type(b),type(c),type(cc),type(ccc)))"
   ]
  },
  {
   "cell_type": "markdown",
   "id": "6cb84a5e",
   "metadata": {},
   "source": [
    "#### list and tuple"
   ]
  },
  {
   "cell_type": "code",
   "execution_count": 34,
   "id": "ecece7f5",
   "metadata": {},
   "outputs": [
    {
     "name": "stdout",
     "output_type": "stream",
     "text": [
      "time taken for this is 0\n"
     ]
    }
   ],
   "source": [
    "stime=time.time_ns()\n",
    "list_1=[11,12,13,14 ,\"chandan\"]\n",
    "tuple_1=(11,12,13,14 ,\"chandan\")\n",
    "etime=time.time_ns()\n",
    "print(\"time taken for this is {}\".format(etime-stime))"
   ]
  },
  {
   "cell_type": "code",
   "execution_count": 12,
   "id": "6939c3e8",
   "metadata": {},
   "outputs": [
    {
     "name": "stdout",
     "output_type": "stream",
     "text": [
      "list_1 <class 'list'> and tuple_1 <class 'tuple'>\n"
     ]
    }
   ],
   "source": [
    "print(\"list_1 {} and tuple_1 {}\".format(type(list_1),type(tuple_1)))"
   ]
  },
  {
   "cell_type": "code",
   "execution_count": 13,
   "id": "44dd44d9",
   "metadata": {},
   "outputs": [
    {
     "data": {
      "text/plain": [
       "[11, 12, 13, 14, 'chandan']"
      ]
     },
     "execution_count": 13,
     "metadata": {},
     "output_type": "execute_result"
    }
   ],
   "source": [
    "list_1"
   ]
  },
  {
   "cell_type": "code",
   "execution_count": 14,
   "id": "4d69104d",
   "metadata": {},
   "outputs": [
    {
     "data": {
      "text/plain": [
       "(11, 12, 13, 14, 'chandan')"
      ]
     },
     "execution_count": 14,
     "metadata": {},
     "output_type": "execute_result"
    }
   ],
   "source": [
    "tuple_1"
   ]
  },
  {
   "cell_type": "code",
   "execution_count": 15,
   "id": "cb771291",
   "metadata": {},
   "outputs": [
    {
     "name": "stdout",
     "output_type": "stream",
     "text": [
      "list_1 5 and tuple_1 5\n"
     ]
    }
   ],
   "source": [
    "print(\"list_1 {} and tuple_1 {}\".format(len(list_1),len(tuple_1)))"
   ]
  },
  {
   "cell_type": "code",
   "execution_count": 17,
   "id": "66727a9c",
   "metadata": {},
   "outputs": [
    {
     "data": {
      "text/plain": [
       "'chandan'"
      ]
     },
     "execution_count": 17,
     "metadata": {},
     "output_type": "execute_result"
    }
   ],
   "source": [
    "list_1[len(list_1)-1]"
   ]
  },
  {
   "cell_type": "code",
   "execution_count": 18,
   "id": "883bb86e",
   "metadata": {},
   "outputs": [],
   "source": [
    "list_1.append(12.2)"
   ]
  },
  {
   "cell_type": "code",
   "execution_count": 19,
   "id": "2e0a097c",
   "metadata": {},
   "outputs": [
    {
     "data": {
      "text/plain": [
       "[11, 12, 13, 14, 'chandan', 12.2]"
      ]
     },
     "execution_count": 19,
     "metadata": {},
     "output_type": "execute_result"
    }
   ],
   "source": [
    "list_1"
   ]
  },
  {
   "cell_type": "code",
   "execution_count": 23,
   "id": "420bcce5",
   "metadata": {},
   "outputs": [],
   "source": [
    "#tuple_1.append(12.2)"
   ]
  },
  {
   "cell_type": "code",
   "execution_count": null,
   "id": "92fb83b1",
   "metadata": {},
   "outputs": [],
   "source": []
  }
 ],
 "metadata": {
  "kernelspec": {
   "display_name": "Python 3 (ipykernel)",
   "language": "python",
   "name": "python3"
  },
  "language_info": {
   "codemirror_mode": {
    "name": "ipython",
    "version": 3
   },
   "file_extension": ".py",
   "mimetype": "text/x-python",
   "name": "python",
   "nbconvert_exporter": "python",
   "pygments_lexer": "ipython3",
   "version": "3.9.12"
  }
 },
 "nbformat": 4,
 "nbformat_minor": 5
}
