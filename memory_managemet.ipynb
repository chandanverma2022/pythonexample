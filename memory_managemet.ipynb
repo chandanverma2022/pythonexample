{
 "cells": [
  {
   "cell_type": "code",
   "execution_count": 1,
   "id": "52f18eb8",
   "metadata": {},
   "outputs": [
    {
     "name": "stdout",
     "output_type": "stream",
     "text": [
      "3.9.12 (main, Apr  4 2022, 05:22:27) [MSC v.1916 64 bit (AMD64)]\n"
     ]
    }
   ],
   "source": [
    "import sys\n",
    "print(sys.version)"
   ]
  },
  {
   "cell_type": "code",
   "execution_count": 2,
   "id": "098e8edb",
   "metadata": {},
   "outputs": [
    {
     "name": "stdout",
     "output_type": "stream",
     "text": [
      "1752753924688 1752753924688 1752753924688\n"
     ]
    }
   ],
   "source": [
    "x = 10\n",
    "y = x\n",
    "t = 10\n",
    "print(id(x), id(y), id(t))"
   ]
  },
  {
   "cell_type": "code",
   "execution_count": 7,
   "id": "9ad53ad6",
   "metadata": {},
   "outputs": [
    {
     "name": "stdout",
     "output_type": "stream",
     "text": [
      "1752836557488 1752836557488 1752836557488 1752840372656 1752859857776\n"
     ]
    }
   ],
   "source": [
    "z = 'hello'\n",
    "l = 'hello'\n",
    "k = l\n",
    "i = 'Hello  World'\n",
    "j = 'Hello  World'\n",
    "print(id(z), id(l), id(k), id(i), id(j))"
   ]
  },
  {
   "cell_type": "code",
   "execution_count": 4,
   "id": "357de5bb",
   "metadata": {},
   "outputs": [
    {
     "name": "stdout",
     "output_type": "stream",
     "text": [
      "1752836557488 1752753924688 1752840273200\n"
     ]
    }
   ],
   "source": [
    "lst = ['hello',10, 'Hello World']\n",
    "print(id(lst[0]), id(lst[1]), id(lst[2]))"
   ]
  },
  {
   "cell_type": "code",
   "execution_count": 8,
   "id": "c8601fb3",
   "metadata": {},
   "outputs": [],
   "source": [
    "#print(dir())"
   ]
  },
  {
   "cell_type": "code",
   "execution_count": 9,
   "id": "3a1bf013",
   "metadata": {},
   "outputs": [],
   "source": [
    "#sys.getrefcount(x)"
   ]
  },
  {
   "cell_type": "code",
   "execution_count": 10,
   "id": "95ccaf16",
   "metadata": {},
   "outputs": [],
   "source": [
    "import gc"
   ]
  },
  {
   "cell_type": "code",
   "execution_count": 13,
   "id": "4214a84e",
   "metadata": {},
   "outputs": [],
   "source": [
    "#gc.get_count()"
   ]
  },
  {
   "cell_type": "markdown",
   "id": "64400437",
   "metadata": {},
   "source": [
    "### How to decrease the reference count of an object"
   ]
  },
  {
   "cell_type": "raw",
   "id": "22aee2c2",
   "metadata": {},
   "source": [
    "There are 3 ways to decrease the reference count of an object:\n",
    "\n",
    "Using del statement\n",
    "Assigning None to a variable name.\n",
    "Pointing reference variable to some other object."
   ]
  },
  {
   "cell_type": "code",
   "execution_count": 14,
   "id": "9ff9b4c4",
   "metadata": {},
   "outputs": [],
   "source": [
    "del x"
   ]
  },
  {
   "cell_type": "code",
   "execution_count": 15,
   "id": "bac14f3c",
   "metadata": {},
   "outputs": [
    {
     "data": {
      "text/plain": [
       "(10, 10, 1752753924688, 1752753924688)"
      ]
     },
     "execution_count": 15,
     "metadata": {},
     "output_type": "execute_result"
    }
   ],
   "source": [
    "y, t, id(y), id(t)"
   ]
  },
  {
   "cell_type": "code",
   "execution_count": 16,
   "id": "97e46624",
   "metadata": {},
   "outputs": [],
   "source": [
    "xx=10\n",
    "yy=xx\n",
    "zz=10"
   ]
  },
  {
   "cell_type": "code",
   "execution_count": 17,
   "id": "0bcf55f5",
   "metadata": {},
   "outputs": [
    {
     "name": "stdout",
     "output_type": "stream",
     "text": [
      "1752753924688 1752753924688 1752753924688\n"
     ]
    }
   ],
   "source": [
    "print(id(xx),id(yy),id(zz))"
   ]
  },
  {
   "cell_type": "code",
   "execution_count": 18,
   "id": "f87dab54",
   "metadata": {},
   "outputs": [],
   "source": [
    "xxx=12"
   ]
  },
  {
   "cell_type": "code",
   "execution_count": 19,
   "id": "b8ea723b",
   "metadata": {},
   "outputs": [
    {
     "data": {
      "text/plain": [
       "1752753924752"
      ]
     },
     "execution_count": 19,
     "metadata": {},
     "output_type": "execute_result"
    }
   ],
   "source": [
    "id(xxx)"
   ]
  },
  {
   "cell_type": "code",
   "execution_count": 20,
   "id": "16535151",
   "metadata": {},
   "outputs": [],
   "source": [
    "xxx=xxx+12"
   ]
  },
  {
   "cell_type": "code",
   "execution_count": 21,
   "id": "46391cba",
   "metadata": {},
   "outputs": [
    {
     "data": {
      "text/plain": [
       "24"
      ]
     },
     "execution_count": 21,
     "metadata": {},
     "output_type": "execute_result"
    }
   ],
   "source": [
    "xxx"
   ]
  },
  {
   "cell_type": "code",
   "execution_count": 22,
   "id": "d413a427",
   "metadata": {},
   "outputs": [
    {
     "data": {
      "text/plain": [
       "1752753925136"
      ]
     },
     "execution_count": 22,
     "metadata": {},
     "output_type": "execute_result"
    }
   ],
   "source": [
    "id(xxx)"
   ]
  },
  {
   "cell_type": "code",
   "execution_count": 23,
   "id": "1852e96c",
   "metadata": {},
   "outputs": [],
   "source": [
    "a_l=[12,11]"
   ]
  },
  {
   "cell_type": "code",
   "execution_count": 24,
   "id": "cb2f86f9",
   "metadata": {},
   "outputs": [
    {
     "data": {
      "text/plain": [
       "1752876868736"
      ]
     },
     "execution_count": 24,
     "metadata": {},
     "output_type": "execute_result"
    }
   ],
   "source": [
    "id(a_l)"
   ]
  },
  {
   "cell_type": "code",
   "execution_count": 25,
   "id": "d1764bab",
   "metadata": {},
   "outputs": [],
   "source": [
    "a_l.append(12)"
   ]
  },
  {
   "cell_type": "code",
   "execution_count": 26,
   "id": "239554f4",
   "metadata": {},
   "outputs": [
    {
     "data": {
      "text/plain": [
       "[12, 11, 12]"
      ]
     },
     "execution_count": 26,
     "metadata": {},
     "output_type": "execute_result"
    }
   ],
   "source": [
    "a_l"
   ]
  },
  {
   "cell_type": "code",
   "execution_count": 27,
   "id": "1ff63217",
   "metadata": {},
   "outputs": [
    {
     "data": {
      "text/plain": [
       "1752876868736"
      ]
     },
     "execution_count": 27,
     "metadata": {},
     "output_type": "execute_result"
    }
   ],
   "source": [
    "id(a_l)"
   ]
  },
  {
   "cell_type": "code",
   "execution_count": null,
   "id": "17a50ff2",
   "metadata": {},
   "outputs": [],
   "source": [
    "print(sys.getrefcount(xx)) "
   ]
  },
  {
   "cell_type": "code",
   "execution_count": null,
   "id": "8d2b1329",
   "metadata": {},
   "outputs": [],
   "source": []
  }
 ],
 "metadata": {
  "kernelspec": {
   "display_name": "Python 3 (ipykernel)",
   "language": "python",
   "name": "python3"
  },
  "language_info": {
   "codemirror_mode": {
    "name": "ipython",
    "version": 3
   },
   "file_extension": ".py",
   "mimetype": "text/x-python",
   "name": "python",
   "nbconvert_exporter": "python",
   "pygments_lexer": "ipython3",
   "version": "3.9.12"
  }
 },
 "nbformat": 4,
 "nbformat_minor": 5
}
