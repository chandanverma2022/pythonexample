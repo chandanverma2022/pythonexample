{
 "cells": [
  {
   "cell_type": "code",
   "execution_count": 38,
   "id": "12da8664",
   "metadata": {},
   "outputs": [],
   "source": [
    "def my_add(a,c,b=10):\n",
    "    print(\"a {} and b {}\".format(a,b))\n",
    "    cc=a+b+c\n",
    "    #print(c)\n",
    "    return cc"
   ]
  },
  {
   "cell_type": "code",
   "execution_count": 39,
   "id": "5ebc66f6",
   "metadata": {},
   "outputs": [
    {
     "name": "stdout",
     "output_type": "stream",
     "text": [
      "a 100 and b 10\n"
     ]
    },
    {
     "data": {
      "text/plain": [
       "232"
      ]
     },
     "execution_count": 39,
     "metadata": {},
     "output_type": "execute_result"
    }
   ],
   "source": [
    "#my_add(b=10,a=12)\n",
    "my_add(100,122)"
   ]
  },
  {
   "cell_type": "code",
   "execution_count": 6,
   "id": "8f70f937",
   "metadata": {},
   "outputs": [],
   "source": [
    "def my_add_2(a=10,b=20):\n",
    "    print(a+b)"
   ]
  },
  {
   "cell_type": "code",
   "execution_count": 7,
   "id": "cc51d344",
   "metadata": {},
   "outputs": [
    {
     "name": "stdout",
     "output_type": "stream",
     "text": [
      "30\n"
     ]
    }
   ],
   "source": [
    "my_add_2()"
   ]
  },
  {
   "cell_type": "code",
   "execution_count": 9,
   "id": "58c173e4",
   "metadata": {},
   "outputs": [
    {
     "name": "stdout",
     "output_type": "stream",
     "text": [
      "110\n"
     ]
    }
   ],
   "source": [
    "my_add_2(a=20,b=90)"
   ]
  },
  {
   "cell_type": "code",
   "execution_count": 14,
   "id": "39c287da",
   "metadata": {},
   "outputs": [],
   "source": [
    "str_1=\"Chandan\""
   ]
  },
  {
   "cell_type": "code",
   "execution_count": 16,
   "id": "5baa1026",
   "metadata": {},
   "outputs": [
    {
     "data": {
      "text/plain": [
       "'CHANDAN'"
      ]
     },
     "execution_count": 16,
     "metadata": {},
     "output_type": "execute_result"
    }
   ],
   "source": [
    "str_1.upper()"
   ]
  },
  {
   "cell_type": "code",
   "execution_count": 24,
   "id": "666104e0",
   "metadata": {},
   "outputs": [],
   "source": [
    "def my_str_case(name):\n",
    "    if name.islower():\n",
    "        name1=name.upper()\n",
    "\n",
    "    elif name.isupper():\n",
    "        name1=name.lower()\n",
    "    return name1\n",
    "        "
   ]
  },
  {
   "cell_type": "code",
   "execution_count": 25,
   "id": "c8db994f",
   "metadata": {},
   "outputs": [
    {
     "data": {
      "text/plain": [
       "'INDIA'"
      ]
     },
     "execution_count": 25,
     "metadata": {},
     "output_type": "execute_result"
    }
   ],
   "source": [
    "my_str_case(\"india\")"
   ]
  },
  {
   "cell_type": "code",
   "execution_count": 26,
   "id": "9d4e8cc0",
   "metadata": {},
   "outputs": [
    {
     "data": {
      "text/plain": [
       "'bharat'"
      ]
     },
     "execution_count": 26,
     "metadata": {},
     "output_type": "execute_result"
    }
   ],
   "source": [
    "my_str_case(\"BHARAT\")"
   ]
  },
  {
   "cell_type": "code",
   "execution_count": null,
   "id": "917d0f63",
   "metadata": {},
   "outputs": [],
   "source": []
  }
 ],
 "metadata": {
  "kernelspec": {
   "display_name": "Python 3 (ipykernel)",
   "language": "python",
   "name": "python3"
  },
  "language_info": {
   "codemirror_mode": {
    "name": "ipython",
    "version": 3
   },
   "file_extension": ".py",
   "mimetype": "text/x-python",
   "name": "python",
   "nbconvert_exporter": "python",
   "pygments_lexer": "ipython3",
   "version": "3.9.12"
  }
 },
 "nbformat": 4,
 "nbformat_minor": 5
}
