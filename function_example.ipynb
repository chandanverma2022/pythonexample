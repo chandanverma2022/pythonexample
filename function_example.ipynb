{
 "cells": [
  {
   "cell_type": "code",
   "execution_count": 3,
   "id": "1868019d",
   "metadata": {},
   "outputs": [
    {
     "name": "stdout",
     "output_type": "stream",
     "text": [
      "sum: 35\n"
     ]
    }
   ],
   "source": [
    "def adder(x,y,z):\n",
    "    print(\"sum:\",x+y+z)\n",
    "\n",
    "adder(10,12,13)"
   ]
  },
  {
   "cell_type": "code",
   "execution_count": null,
   "id": "de9c5144",
   "metadata": {},
   "outputs": [],
   "source": [
    "def names():\n",
    "    # Set up name variable with input\n",
    "    name = str(input('Enter your name: '))\n",
    "    # Check whether name has a vowel\n",
    "    if set('aeiou').intersection(name.lower()):\n",
    "        print('Your name contains a vowel.')\n",
    "    else:\n",
    "        print('Your name does not contain a vowel.')\n",
    "\n",
    "    # Iterate over name\n",
    "    for letter in name:\n",
    "        print(letter)\n",
    "\n",
    "# Call the function\n",
    "names()\n"
   ]
  },
  {
   "cell_type": "code",
   "execution_count": null,
   "id": "fb765b59",
   "metadata": {},
   "outputs": [],
   "source": [
    "#adder(5,10,15,20,25)"
   ]
  },
  {
   "cell_type": "code",
   "execution_count": 5,
   "id": "ef2f77ba",
   "metadata": {},
   "outputs": [
    {
     "name": "stdout",
     "output_type": "stream",
     "text": [
      "(3, 5)\n",
      "<class 'tuple'>\n",
      "Sum: 8\n",
      "(4, 5, 6, 7)\n",
      "<class 'tuple'>\n",
      "Sum: 22\n",
      "(1, 2, 3, 5, 6)\n",
      "<class 'tuple'>\n",
      "Sum: 17\n"
     ]
    }
   ],
   "source": [
    "def adder(*num):\n",
    "    sum = 0\n",
    "    print(num)\n",
    "    print(type(num))\n",
    "    \n",
    "    for n in num:\n",
    "        sum = sum + n\n",
    "\n",
    "    print(\"Sum:\",sum)\n",
    "\n",
    "adder(3,5)\n",
    "adder(4,5,6,7)\n",
    "adder(1,2,3,5,6)"
   ]
  },
  {
   "cell_type": "code",
   "execution_count": 6,
   "id": "e71839fe",
   "metadata": {},
   "outputs": [],
   "source": [
    "def connect(**kwargs):\n",
    "    print(type(kwargs))\n",
    "    print(kwargs)"
   ]
  },
  {
   "cell_type": "code",
   "execution_count": 7,
   "id": "5a22fa21",
   "metadata": {},
   "outputs": [
    {
     "name": "stdout",
     "output_type": "stream",
     "text": [
      "<class 'dict'>\n",
      "{}\n"
     ]
    }
   ],
   "source": [
    "connect()"
   ]
  },
  {
   "cell_type": "code",
   "execution_count": 8,
   "id": "a0be2157",
   "metadata": {},
   "outputs": [
    {
     "name": "stdout",
     "output_type": "stream",
     "text": [
      "<class 'dict'>\n",
      "{'server': 'localhost', 'port': 3306, 'user': 'root', 'password': 'Py1hon!Xt'}\n"
     ]
    }
   ],
   "source": [
    "connect(server='localhost', port=3306, user='root', password='Py1hon!Xt')"
   ]
  },
  {
   "cell_type": "code",
   "execution_count": 9,
   "id": "3352bf56",
   "metadata": {},
   "outputs": [
    {
     "name": "stdout",
     "output_type": "stream",
     "text": [
      "\n",
      "Data type of argument: <class 'dict'>\n",
      "Firstname is Sita\n",
      "Lastname is Sharma\n",
      "Age is 22\n",
      "Phone is 1234567890\n",
      "\n",
      "Data type of argument: <class 'dict'>\n",
      "Firstname is John\n",
      "Lastname is Wood\n",
      "Email is johnwood@nomail.com\n",
      "Country is Wakanda\n",
      "Age is 25\n",
      "Phone is 9876543210\n"
     ]
    }
   ],
   "source": [
    "def intro(**data):\n",
    "    print(\"\\nData type of argument:\",type(data))\n",
    "\n",
    "    for key, value in data.items():\n",
    "        print(\"{} is {}\".format(key,value))\n",
    "\n",
    "intro(Firstname=\"Sita\", Lastname=\"Sharma\", Age=22, Phone=1234567890)\n",
    "intro(Firstname=\"John\", Lastname=\"Wood\", Email=\"johnwood@nomail.com\", Country=\"Wakanda\", Age=25, Phone=9876543210)"
   ]
  },
  {
   "cell_type": "code",
   "execution_count": null,
   "id": "b0d5cc3f",
   "metadata": {},
   "outputs": [],
   "source": [
    "greet(\"chandan\",\"amit\")"
   ]
  },
  {
   "cell_type": "code",
   "execution_count": null,
   "id": "3a2e473a",
   "metadata": {},
   "outputs": [],
   "source": [
    "def my_var_sum(*args):\n",
    "  sum = 0\n",
    "  for arg in args:\n",
    "    sum += arg\n",
    "  return sum"
   ]
  },
  {
   "cell_type": "code",
   "execution_count": null,
   "id": "bdc623fa",
   "metadata": {},
   "outputs": [],
   "source": [
    "my_var_sum(10,11,20,30)"
   ]
  },
  {
   "cell_type": "code",
   "execution_count": null,
   "id": "3a629b9a",
   "metadata": {},
   "outputs": [],
   "source": [
    "def hello():\n",
    "    print(\"Hello, World!\")\n",
    "\n",
    "def main():\n",
    "    print(\"This is the main function.\")\n",
    "    hello()\n",
    "\n",
    "main()"
   ]
  },
  {
   "cell_type": "code",
   "execution_count": null,
   "id": "7bd3a4ad",
   "metadata": {},
   "outputs": [],
   "source": []
  }
 ],
 "metadata": {
  "kernelspec": {
   "display_name": "Python 3 (ipykernel)",
   "language": "python",
   "name": "python3"
  },
  "language_info": {
   "codemirror_mode": {
    "name": "ipython",
    "version": 3
   },
   "file_extension": ".py",
   "mimetype": "text/x-python",
   "name": "python",
   "nbconvert_exporter": "python",
   "pygments_lexer": "ipython3",
   "version": "3.9.12"
  }
 },
 "nbformat": 4,
 "nbformat_minor": 5
}
