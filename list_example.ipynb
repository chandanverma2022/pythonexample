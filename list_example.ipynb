{
 "cells": [
  {
   "cell_type": "code",
   "execution_count": 1,
   "id": "84d7ce03",
   "metadata": {},
   "outputs": [],
   "source": [
    "a_list=[11,12,13,14]"
   ]
  },
  {
   "cell_type": "code",
   "execution_count": 2,
   "id": "12698712",
   "metadata": {},
   "outputs": [
    {
     "data": {
      "text/plain": [
       "[11, 12, 13, 14]"
      ]
     },
     "execution_count": 2,
     "metadata": {},
     "output_type": "execute_result"
    }
   ],
   "source": [
    "a_list"
   ]
  },
  {
   "cell_type": "code",
   "execution_count": 4,
   "id": "f01640dc",
   "metadata": {},
   "outputs": [
    {
     "data": {
      "text/plain": [
       "list"
      ]
     },
     "execution_count": 4,
     "metadata": {},
     "output_type": "execute_result"
    }
   ],
   "source": [
    "type(a_list)"
   ]
  },
  {
   "cell_type": "code",
   "execution_count": 5,
   "id": "2c44942e",
   "metadata": {},
   "outputs": [
    {
     "data": {
      "text/plain": [
       "11"
      ]
     },
     "execution_count": 5,
     "metadata": {},
     "output_type": "execute_result"
    }
   ],
   "source": [
    "a_list[0]"
   ]
  },
  {
   "cell_type": "code",
   "execution_count": 6,
   "id": "52b3736c",
   "metadata": {},
   "outputs": [
    {
     "data": {
      "text/plain": [
       "14"
      ]
     },
     "execution_count": 6,
     "metadata": {},
     "output_type": "execute_result"
    }
   ],
   "source": [
    "a_list[-1]"
   ]
  },
  {
   "cell_type": "code",
   "execution_count": 8,
   "id": "3185cb84",
   "metadata": {},
   "outputs": [
    {
     "data": {
      "text/plain": [
       "[11, 12, 13, 14]"
      ]
     },
     "execution_count": 8,
     "metadata": {},
     "output_type": "execute_result"
    }
   ],
   "source": [
    "a_list"
   ]
  },
  {
   "cell_type": "code",
   "execution_count": 11,
   "id": "e5058011",
   "metadata": {},
   "outputs": [
    {
     "name": "stdout",
     "output_type": "stream",
     "text": [
      "chandan 0\n",
      "chandan 1\n",
      "chandan 2\n",
      "chandan 3\n"
     ]
    }
   ],
   "source": [
    "for i in range(len(a_list)):\n",
    "    print(\"chandan\",i)"
   ]
  },
  {
   "cell_type": "code",
   "execution_count": 17,
   "id": "2060b930",
   "metadata": {},
   "outputs": [],
   "source": [
    "a_range=range(10)\n",
    "b_range=range(2,10)\n",
    "c_range=range(2,10,2)"
   ]
  },
  {
   "cell_type": "code",
   "execution_count": 14,
   "id": "83870581",
   "metadata": {},
   "outputs": [
    {
     "data": {
      "text/plain": [
       "[0, 1, 2, 3, 4, 5, 6, 7, 8, 9]"
      ]
     },
     "execution_count": 14,
     "metadata": {},
     "output_type": "execute_result"
    }
   ],
   "source": [
    "list(a_range)"
   ]
  },
  {
   "cell_type": "code",
   "execution_count": 16,
   "id": "746abcd2",
   "metadata": {},
   "outputs": [
    {
     "data": {
      "text/plain": [
       "[2, 3, 4, 5, 6, 7, 8, 9]"
      ]
     },
     "execution_count": 16,
     "metadata": {},
     "output_type": "execute_result"
    }
   ],
   "source": [
    "list(b_range)"
   ]
  },
  {
   "cell_type": "code",
   "execution_count": 18,
   "id": "ad7272ad",
   "metadata": {},
   "outputs": [
    {
     "data": {
      "text/plain": [
       "[2, 4, 6, 8]"
      ]
     },
     "execution_count": 18,
     "metadata": {},
     "output_type": "execute_result"
    }
   ],
   "source": [
    "list(c_range)"
   ]
  },
  {
   "cell_type": "code",
   "execution_count": 21,
   "id": "a42ccf47",
   "metadata": {},
   "outputs": [
    {
     "name": "stdout",
     "output_type": "stream",
     "text": [
      "chandan 0\n",
      "chandan 2\n",
      "chandan 4\n",
      "chandan 6\n",
      "chandan 8\n"
     ]
    }
   ],
   "source": [
    "for i in range(0,10,2):\n",
    "    print(\"chandan\",i)"
   ]
  },
  {
   "cell_type": "code",
   "execution_count": 22,
   "id": "75f043f4",
   "metadata": {},
   "outputs": [
    {
     "data": {
      "text/plain": [
       "[11, 12, 13, 14]"
      ]
     },
     "execution_count": 22,
     "metadata": {},
     "output_type": "execute_result"
    }
   ],
   "source": [
    "a_list"
   ]
  },
  {
   "cell_type": "code",
   "execution_count": 24,
   "id": "54b83c4e",
   "metadata": {},
   "outputs": [
    {
     "data": {
      "text/plain": [
       "False"
      ]
     },
     "execution_count": 24,
     "metadata": {},
     "output_type": "execute_result"
    }
   ],
   "source": [
    "101 in a_list"
   ]
  },
  {
   "cell_type": "code",
   "execution_count": 25,
   "id": "410700a7",
   "metadata": {},
   "outputs": [],
   "source": [
    "b_list=[1,2,3,4]"
   ]
  },
  {
   "cell_type": "code",
   "execution_count": 26,
   "id": "ba4aa26e",
   "metadata": {},
   "outputs": [],
   "source": [
    "a_list.extend(b_list)"
   ]
  },
  {
   "cell_type": "code",
   "execution_count": 27,
   "id": "9326c052",
   "metadata": {},
   "outputs": [
    {
     "data": {
      "text/plain": [
       "[11, 12, 13, 14, 1, 2, 3, 4]"
      ]
     },
     "execution_count": 27,
     "metadata": {},
     "output_type": "execute_result"
    }
   ],
   "source": [
    "a_list"
   ]
  },
  {
   "cell_type": "code",
   "execution_count": 28,
   "id": "8d081d7b",
   "metadata": {},
   "outputs": [],
   "source": [
    "a_list.insert(3,30)"
   ]
  },
  {
   "cell_type": "code",
   "execution_count": 29,
   "id": "a8bdc590",
   "metadata": {},
   "outputs": [
    {
     "data": {
      "text/plain": [
       "[11, 12, 13, 30, 14, 1, 2, 3, 4]"
      ]
     },
     "execution_count": 29,
     "metadata": {},
     "output_type": "execute_result"
    }
   ],
   "source": [
    "a_list"
   ]
  },
  {
   "cell_type": "code",
   "execution_count": 36,
   "id": "dbc379b0",
   "metadata": {},
   "outputs": [],
   "source": [
    "a_list.sort()"
   ]
  },
  {
   "cell_type": "code",
   "execution_count": 31,
   "id": "bd0c7bdc",
   "metadata": {},
   "outputs": [
    {
     "data": {
      "text/plain": [
       "[1, 2, 3, 4, 11, 12, 13, 14, 30]"
      ]
     },
     "execution_count": 31,
     "metadata": {},
     "output_type": "execute_result"
    }
   ],
   "source": [
    "a_list"
   ]
  },
  {
   "cell_type": "code",
   "execution_count": 32,
   "id": "df98fd78",
   "metadata": {},
   "outputs": [],
   "source": [
    "a_list.reverse()"
   ]
  },
  {
   "cell_type": "code",
   "execution_count": 33,
   "id": "86de6b9e",
   "metadata": {},
   "outputs": [
    {
     "data": {
      "text/plain": [
       "[30, 14, 13, 12, 11, 4, 3, 2, 1]"
      ]
     },
     "execution_count": 33,
     "metadata": {},
     "output_type": "execute_result"
    }
   ],
   "source": [
    "a_list"
   ]
  },
  {
   "cell_type": "code",
   "execution_count": 37,
   "id": "b16a9ba8",
   "metadata": {},
   "outputs": [],
   "source": [
    "del b_list"
   ]
  },
  {
   "cell_type": "code",
   "execution_count": 38,
   "id": "c2a50286",
   "metadata": {},
   "outputs": [
    {
     "ename": "NameError",
     "evalue": "name 'b_list' is not defined",
     "output_type": "error",
     "traceback": [
      "\u001b[1;31m---------------------------------------------------------------------------\u001b[0m",
      "\u001b[1;31mNameError\u001b[0m                                 Traceback (most recent call last)",
      "Input \u001b[1;32mIn [38]\u001b[0m, in \u001b[0;36m<cell line: 1>\u001b[1;34m()\u001b[0m\n\u001b[1;32m----> 1\u001b[0m \u001b[43mb_list\u001b[49m\n",
      "\u001b[1;31mNameError\u001b[0m: name 'b_list' is not defined"
     ]
    }
   ],
   "source": [
    "b_list"
   ]
  },
  {
   "cell_type": "code",
   "execution_count": 39,
   "id": "1f6c4643",
   "metadata": {},
   "outputs": [],
   "source": [
    "aa_list=[11,11,22,12,12,2,3,4]"
   ]
  },
  {
   "cell_type": "code",
   "execution_count": 41,
   "id": "60afa944",
   "metadata": {},
   "outputs": [
    {
     "data": {
      "text/plain": [
       "1"
      ]
     },
     "execution_count": 41,
     "metadata": {},
     "output_type": "execute_result"
    }
   ],
   "source": [
    "aa_list.count(22)"
   ]
  },
  {
   "cell_type": "code",
   "execution_count": 42,
   "id": "c4bdb56d",
   "metadata": {},
   "outputs": [
    {
     "data": {
      "text/plain": [
       "4"
      ]
     },
     "execution_count": 42,
     "metadata": {},
     "output_type": "execute_result"
    }
   ],
   "source": [
    "aa_list.pop()"
   ]
  },
  {
   "cell_type": "code",
   "execution_count": 43,
   "id": "2393b532",
   "metadata": {},
   "outputs": [
    {
     "data": {
      "text/plain": [
       "[11, 11, 22, 12, 12, 2, 3]"
      ]
     },
     "execution_count": 43,
     "metadata": {},
     "output_type": "execute_result"
    }
   ],
   "source": [
    "aa_list[:]"
   ]
  },
  {
   "cell_type": "code",
   "execution_count": 44,
   "id": "7391f0bd",
   "metadata": {},
   "outputs": [
    {
     "data": {
      "text/plain": [
       "[22, 12, 12, 2, 3]"
      ]
     },
     "execution_count": 44,
     "metadata": {},
     "output_type": "execute_result"
    }
   ],
   "source": [
    "aa_list[2:]"
   ]
  },
  {
   "cell_type": "code",
   "execution_count": 45,
   "id": "4ac7d3cc",
   "metadata": {},
   "outputs": [
    {
     "data": {
      "text/plain": [
       "[11, 11, 22]"
      ]
     },
     "execution_count": 45,
     "metadata": {},
     "output_type": "execute_result"
    }
   ],
   "source": [
    "aa_list[:3]"
   ]
  },
  {
   "cell_type": "code",
   "execution_count": 46,
   "id": "3d6c0b0c",
   "metadata": {},
   "outputs": [
    {
     "data": {
      "text/plain": [
       "[12, 12]"
      ]
     },
     "execution_count": 46,
     "metadata": {},
     "output_type": "execute_result"
    }
   ],
   "source": [
    "aa_list[3:5]"
   ]
  },
  {
   "cell_type": "code",
   "execution_count": 47,
   "id": "40d85d32",
   "metadata": {},
   "outputs": [
    {
     "data": {
      "text/plain": [
       "[11, 22, 12]"
      ]
     },
     "execution_count": 47,
     "metadata": {},
     "output_type": "execute_result"
    }
   ],
   "source": [
    "aa_list[0:5:2]"
   ]
  },
  {
   "cell_type": "code",
   "execution_count": 48,
   "id": "58de2eda",
   "metadata": {},
   "outputs": [
    {
     "data": {
      "text/plain": [
       "[3, 2, 12, 12, 22, 11, 11]"
      ]
     },
     "execution_count": 48,
     "metadata": {},
     "output_type": "execute_result"
    }
   ],
   "source": [
    "aa_list[::-1]"
   ]
  },
  {
   "cell_type": "code",
   "execution_count": 49,
   "id": "9b8eedfd",
   "metadata": {},
   "outputs": [
    {
     "data": {
      "text/plain": [
       "[11, 22, 12, 3]"
      ]
     },
     "execution_count": 49,
     "metadata": {},
     "output_type": "execute_result"
    }
   ],
   "source": [
    "aa_list[::2]"
   ]
  },
  {
   "cell_type": "code",
   "execution_count": null,
   "id": "9ec35a2f",
   "metadata": {},
   "outputs": [],
   "source": []
  }
 ],
 "metadata": {
  "kernelspec": {
   "display_name": "Python 3 (ipykernel)",
   "language": "python",
   "name": "python3"
  },
  "language_info": {
   "codemirror_mode": {
    "name": "ipython",
    "version": 3
   },
   "file_extension": ".py",
   "mimetype": "text/x-python",
   "name": "python",
   "nbconvert_exporter": "python",
   "pygments_lexer": "ipython3",
   "version": "3.9.12"
  }
 },
 "nbformat": 4,
 "nbformat_minor": 5
}
