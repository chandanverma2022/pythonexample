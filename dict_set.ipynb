{
 "cells": [
  {
   "cell_type": "markdown",
   "id": "60ea51a1",
   "metadata": {},
   "source": [
    "### {}"
   ]
  },
  {
   "cell_type": "code",
   "execution_count": 45,
   "id": "5fe02ab9",
   "metadata": {},
   "outputs": [],
   "source": [
    "d_1={\"Name\":(\"chandan\",\"aman\",\"amit\"),\"Age\":(29,30,32)}"
   ]
  },
  {
   "cell_type": "markdown",
   "id": "3477d34a",
   "metadata": {},
   "source": [
    "# d_1"
   ]
  },
  {
   "cell_type": "code",
   "execution_count": 46,
   "id": "8251bcb9",
   "metadata": {},
   "outputs": [
    {
     "data": {
      "text/plain": [
       "dict_keys(['Name', 'Age'])"
      ]
     },
     "execution_count": 46,
     "metadata": {},
     "output_type": "execute_result"
    }
   ],
   "source": [
    "d_1.keys()"
   ]
  },
  {
   "cell_type": "code",
   "execution_count": 47,
   "id": "74264889",
   "metadata": {},
   "outputs": [
    {
     "data": {
      "text/plain": [
       "dict_values([('chandan', 'aman', 'amit'), (29, 30, 32)])"
      ]
     },
     "execution_count": 47,
     "metadata": {},
     "output_type": "execute_result"
    }
   ],
   "source": [
    "d_1.values()"
   ]
  },
  {
   "cell_type": "code",
   "execution_count": 48,
   "id": "8d5b8371",
   "metadata": {},
   "outputs": [
    {
     "data": {
      "text/plain": [
       "('chandan', 'aman', 'amit')"
      ]
     },
     "execution_count": 48,
     "metadata": {},
     "output_type": "execute_result"
    }
   ],
   "source": [
    "d_1[\"Name\"]"
   ]
  },
  {
   "cell_type": "code",
   "execution_count": 49,
   "id": "5869c22c",
   "metadata": {},
   "outputs": [
    {
     "data": {
      "text/plain": [
       "dict_items([('Name', ('chandan', 'aman', 'amit')), ('Age', (29, 30, 32))])"
      ]
     },
     "execution_count": 49,
     "metadata": {},
     "output_type": "execute_result"
    }
   ],
   "source": [
    "d_1.items()"
   ]
  },
  {
   "cell_type": "code",
   "execution_count": 50,
   "id": "ca669193",
   "metadata": {},
   "outputs": [
    {
     "data": {
      "text/plain": [
       "2"
      ]
     },
     "execution_count": 50,
     "metadata": {},
     "output_type": "execute_result"
    }
   ],
   "source": [
    "len(d_1)"
   ]
  },
  {
   "cell_type": "markdown",
   "id": "71fcb9fc",
   "metadata": {},
   "source": [
    "### SET"
   ]
  },
  {
   "cell_type": "code",
   "execution_count": 51,
   "id": "8c06a0eb",
   "metadata": {},
   "outputs": [],
   "source": [
    "S_1={11,11,12,45,89,0,0,\"CHANDAN\"}"
   ]
  },
  {
   "cell_type": "code",
   "execution_count": 39,
   "id": "ecaae9e2",
   "metadata": {},
   "outputs": [],
   "source": [
    "#S_1"
   ]
  },
  {
   "cell_type": "code",
   "execution_count": 38,
   "id": "3d1ba299",
   "metadata": {},
   "outputs": [],
   "source": [
    "#S_22={[2,3,4],9}"
   ]
  },
  {
   "cell_type": "code",
   "execution_count": 34,
   "id": "cdf9c7d3",
   "metadata": {},
   "outputs": [],
   "source": [
    "#S_2={(2,3,4),9}"
   ]
  },
  {
   "cell_type": "code",
   "execution_count": 35,
   "id": "2a432e4d",
   "metadata": {},
   "outputs": [],
   "source": [
    "#S_2"
   ]
  },
  {
   "cell_type": "code",
   "execution_count": 36,
   "id": "988a5a59",
   "metadata": {},
   "outputs": [],
   "source": [
    "#aa={}\n",
    "#type(aa)"
   ]
  },
  {
   "cell_type": "code",
   "execution_count": 37,
   "id": "2801f528",
   "metadata": {},
   "outputs": [],
   "source": [
    "#ss=set()\n",
    "#print(ss)"
   ]
  },
  {
   "cell_type": "code",
   "execution_count": 52,
   "id": "c258efca",
   "metadata": {},
   "outputs": [
    {
     "data": {
      "text/plain": [
       "{0, 11, 12, 45, 89, 'CHANDAN'}"
      ]
     },
     "execution_count": 52,
     "metadata": {},
     "output_type": "execute_result"
    }
   ],
   "source": [
    "S_1"
   ]
  },
  {
   "cell_type": "code",
   "execution_count": 53,
   "id": "0de28340",
   "metadata": {},
   "outputs": [],
   "source": [
    "S_1.add(13)"
   ]
  },
  {
   "cell_type": "code",
   "execution_count": 54,
   "id": "374ffbde",
   "metadata": {},
   "outputs": [
    {
     "data": {
      "text/plain": [
       "{0, 11, 12, 13, 45, 89, 'CHANDAN'}"
      ]
     },
     "execution_count": 54,
     "metadata": {},
     "output_type": "execute_result"
    }
   ],
   "source": [
    "S_1"
   ]
  },
  {
   "cell_type": "code",
   "execution_count": 57,
   "id": "917966e9",
   "metadata": {},
   "outputs": [],
   "source": [
    "S_1.update([10,9,90],{91,92,93})"
   ]
  },
  {
   "cell_type": "code",
   "execution_count": 58,
   "id": "df002fbc",
   "metadata": {},
   "outputs": [
    {
     "data": {
      "text/plain": [
       "{0, 10, 11, 12, 13, 45, 89, 9, 90, 91, 92, 93, 'CHANDAN'}"
      ]
     },
     "execution_count": 58,
     "metadata": {},
     "output_type": "execute_result"
    }
   ],
   "source": [
    "S_1"
   ]
  },
  {
   "cell_type": "code",
   "execution_count": 59,
   "id": "a1da213f",
   "metadata": {},
   "outputs": [],
   "source": [
    "ss_1={11,12,13,14,15,16}\n",
    "ss_2={9,10,11,12,14,16}"
   ]
  },
  {
   "cell_type": "code",
   "execution_count": 60,
   "id": "90a24243",
   "metadata": {},
   "outputs": [
    {
     "data": {
      "text/plain": [
       "{9, 10, 11, 12, 13, 14, 15, 16}"
      ]
     },
     "execution_count": 60,
     "metadata": {},
     "output_type": "execute_result"
    }
   ],
   "source": [
    "ss_1.union(ss_2)"
   ]
  },
  {
   "cell_type": "code",
   "execution_count": 62,
   "id": "f26ea13f",
   "metadata": {},
   "outputs": [],
   "source": [
    "#set(\"chandan\")"
   ]
  },
  {
   "cell_type": "code",
   "execution_count": 63,
   "id": "15baf2c2",
   "metadata": {},
   "outputs": [
    {
     "data": {
      "text/plain": [
       "{9, 10, 11, 12, 13, 14, 15, 16}"
      ]
     },
     "execution_count": 63,
     "metadata": {},
     "output_type": "execute_result"
    }
   ],
   "source": [
    "ss_1 | ss_2"
   ]
  },
  {
   "cell_type": "code",
   "execution_count": 64,
   "id": "fb6c36f6",
   "metadata": {},
   "outputs": [
    {
     "data": {
      "text/plain": [
       "{11, 12, 14, 16}"
      ]
     },
     "execution_count": 64,
     "metadata": {},
     "output_type": "execute_result"
    }
   ],
   "source": [
    "ss_1.intersection(ss_2)"
   ]
  },
  {
   "cell_type": "code",
   "execution_count": 65,
   "id": "bca92482",
   "metadata": {},
   "outputs": [
    {
     "data": {
      "text/plain": [
       "{11, 12, 14, 16}"
      ]
     },
     "execution_count": 65,
     "metadata": {},
     "output_type": "execute_result"
    }
   ],
   "source": [
    "ss_2 & ss_1"
   ]
  },
  {
   "cell_type": "code",
   "execution_count": 66,
   "id": "accc5680",
   "metadata": {},
   "outputs": [
    {
     "data": {
      "text/plain": [
       "{13, 15}"
      ]
     },
     "execution_count": 66,
     "metadata": {},
     "output_type": "execute_result"
    }
   ],
   "source": [
    "ss_1.difference(ss_2)"
   ]
  },
  {
   "cell_type": "code",
   "execution_count": 67,
   "id": "4a394c9c",
   "metadata": {},
   "outputs": [
    {
     "data": {
      "text/plain": [
       "{13, 15}"
      ]
     },
     "execution_count": 67,
     "metadata": {},
     "output_type": "execute_result"
    }
   ],
   "source": [
    "ss_1-ss_2"
   ]
  },
  {
   "cell_type": "code",
   "execution_count": 68,
   "id": "87f1a964",
   "metadata": {},
   "outputs": [
    {
     "data": {
      "text/plain": [
       "{9, 10, 13, 15}"
      ]
     },
     "execution_count": 68,
     "metadata": {},
     "output_type": "execute_result"
    }
   ],
   "source": [
    "ss_1.symmetric_difference(ss_2)"
   ]
  },
  {
   "cell_type": "code",
   "execution_count": 69,
   "id": "ad7a2fe3",
   "metadata": {},
   "outputs": [
    {
     "data": {
      "text/plain": [
       "{9, 10, 13, 15}"
      ]
     },
     "execution_count": 69,
     "metadata": {},
     "output_type": "execute_result"
    }
   ],
   "source": [
    "ss_1 ^ ss_2"
   ]
  },
  {
   "cell_type": "code",
   "execution_count": 74,
   "id": "d969f957",
   "metadata": {},
   "outputs": [
    {
     "name": "stdout",
     "output_type": "stream",
     "text": [
      "please enter any number10\n"
     ]
    }
   ],
   "source": [
    "input_a=int(input(\"please enter any number\"))"
   ]
  },
  {
   "cell_type": "code",
   "execution_count": 75,
   "id": "17b55af6",
   "metadata": {},
   "outputs": [
    {
     "data": {
      "text/plain": [
       "20"
      ]
     },
     "execution_count": 75,
     "metadata": {},
     "output_type": "execute_result"
    }
   ],
   "source": [
    "input_a+10"
   ]
  },
  {
   "cell_type": "code",
   "execution_count": 76,
   "id": "b7595927",
   "metadata": {},
   "outputs": [
    {
     "data": {
      "text/plain": [
       "int"
      ]
     },
     "execution_count": 76,
     "metadata": {},
     "output_type": "execute_result"
    }
   ],
   "source": [
    "type(input_a)"
   ]
  },
  {
   "cell_type": "code",
   "execution_count": 82,
   "id": "c51ad54d",
   "metadata": {},
   "outputs": [],
   "source": [
    "a=\"bbbA\""
   ]
  },
  {
   "cell_type": "code",
   "execution_count": 83,
   "id": "7fd5c26f",
   "metadata": {},
   "outputs": [
    {
     "data": {
      "text/plain": [
       "True"
      ]
     },
     "execution_count": 83,
     "metadata": {},
     "output_type": "execute_result"
    }
   ],
   "source": [
    "a.isalpha()"
   ]
  },
  {
   "cell_type": "code",
   "execution_count": 93,
   "id": "de1c0d8f",
   "metadata": {},
   "outputs": [
    {
     "name": "stdout",
     "output_type": "stream",
     "text": [
      "enter any value 1238\n"
     ]
    }
   ],
   "source": [
    "input_value=input(\"enter any value \")"
   ]
  },
  {
   "cell_type": "code",
   "execution_count": 94,
   "id": "d3626271",
   "metadata": {},
   "outputs": [
    {
     "name": "stdout",
     "output_type": "stream",
     "text": [
      " input value 1238 is Digit\n"
     ]
    }
   ],
   "source": [
    "if input_value.isdigit():\n",
    "    print(\" input value {} is Digit\".format(input_value))\n",
    "elif input_value.isalpha():\n",
    "     print(\" input value {} is Alpha\".format(input_value))\n",
    "elif input_value.isdecimal():\n",
    "     print(\" input value {} is isdecimal\".format(input_value))\n",
    "    \n",
    "else:\n",
    "    print(\" input value {} is some thing else\".format(input_value))\n"
   ]
  },
  {
   "cell_type": "code",
   "execution_count": null,
   "id": "2acc36b6",
   "metadata": {},
   "outputs": [],
   "source": []
  },
  {
   "cell_type": "code",
   "execution_count": null,
   "id": "a3a26c12",
   "metadata": {},
   "outputs": [],
   "source": []
  },
  {
   "cell_type": "code",
   "execution_count": null,
   "id": "ef88dbe5",
   "metadata": {},
   "outputs": [],
   "source": []
  }
 ],
 "metadata": {
  "kernelspec": {
   "display_name": "Python 3 (ipykernel)",
   "language": "python",
   "name": "python3"
  },
  "language_info": {
   "codemirror_mode": {
    "name": "ipython",
    "version": 3
   },
   "file_extension": ".py",
   "mimetype": "text/x-python",
   "name": "python",
   "nbconvert_exporter": "python",
   "pygments_lexer": "ipython3",
   "version": "3.9.12"
  }
 },
 "nbformat": 4,
 "nbformat_minor": 5
}
